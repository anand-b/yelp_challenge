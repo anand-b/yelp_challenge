{
 "cells": [
  {
   "cell_type": "markdown",
   "metadata": {},
   "source": [
    "###Clustering Businesses"
   ]
  },
  {
   "cell_type": "code",
   "execution_count": 1,
   "metadata": {},
   "outputs": [
    {
     "name": "stdout",
     "output_type": "stream",
     "text": [
      "There are 1310 unique categories and subcategories for all businesses\n"
     ]
    }
   ],
   "source": [
    "import os\n",
    "import csv\n",
    "import re\n",
    "\n",
    "business_csv_file = open(os.path.join(\"..\",\"data\",\"biz_csv\",\"business.csv\"),\"r\", encoding='utf-8')\n",
    "business_csv = csv.reader(business_csv_file)\n",
    "\n",
    "categories = list()\n",
    "for line in business_csv:\n",
    "    #print(line)\n",
    "    categories.append(line[-1])\n",
    "categories = categories[1:]\n",
    "\n",
    "business_csv_file.close()\n",
    "\n",
    "unique_cats = set()\n",
    "for category in categories:\n",
    "    cat_list = re.split(\",|&\",category)\n",
    "    for cat in cat_list:\n",
    "        cat = cat.lower().strip()\n",
    "        if len(cat) > 0:\n",
    "            unique_cats.add(cat.lower().strip())\n",
    "\n",
    "print(\"There are \"+str(len(unique_cats))+\" unique categories and subcategories for all businesses\")"
   ]
  },
  {
   "cell_type": "code",
   "execution_count": 1,
   "metadata": {
    "collapsed": true
   },
   "outputs": [],
   "source": [
    "import os\n",
    "from sklearn.feature_extraction.text import TfidfVectorizer\n",
    "from sklearn.cluster import KMeans\n",
    "import csv\n",
    "import pandas\n",
    "\n",
    "\n",
    "# business_csv_file = open(os.path.join(\"..\",\"data\",\"biz_csv\",\"business.csv\"),\"r\", encoding=\"utf8\")\n",
    "# business_csv = csv.reader(business_csv_file)\n",
    "\n",
    "def cluster_by_category(latlon_cluster_no, data, n_clusters):\n",
    "    categories = list()\n",
    "    for line in data:\n",
    "        categories.append(line[-1])\n",
    "        \n",
    "    vectorizer = TfidfVectorizer(stop_words='english') #,token_pattern='[a-zA-Z0-9\\s&]+' # term-frequency x inverse-document frequency\n",
    "    # tokenize based on comma instead of space. Otherwise, words like \"Public Services\" will not be seen as a single word \n",
    "    # by the vectorizer\n",
    "    cat = vectorizer.fit_transform(categories)\n",
    "\n",
    "    kmeans_model = KMeans(n_clusters=n_clusters, init='k-means++', max_iter=100, n_init=1,random_state=1)\n",
    "    kmeans_model.fit(cat)\n",
    "\n",
    "    business_csv_clustered_file = open(os.path.join(\"..\",\"data\",\"biz_csv\",\"business_clustered.csv\"),\"a+\", newline='', encoding='utf8')\n",
    "    business_clustered_csv = csv.writer(business_csv_clustered_file)\n",
    "\n",
    "    for line in data:\n",
    "        if not (line[-1] == \"categories\"):\n",
    "            pred = kmeans_model.predict(vectorizer.transform(line[-1:]))\n",
    "            line.extend([pred[0],latlon_cluster_no])\n",
    "            business_clustered_csv.writerow(line)\n",
    "\n",
    "    business_csv_clustered_file.close()"
   ]
  },
  {
   "cell_type": "code",
   "execution_count": 3,
   "metadata": {
    "collapsed": true
   },
   "outputs": [],
   "source": [
    "import os\n",
    "from sklearn.feature_extraction.text import TfidfVectorizer\n",
    "from sklearn.cluster import KMeans\n",
    "import csv\n",
    "import pandas\n",
    "\n",
    "def cluster_by_position_and_category(n_clusters):\n",
    "    business_csv_file = open(os.path.join(\"..\",\"data\",\"biz_csv\",\"business.csv\"),\"r\", encoding=\"utf8\")\n",
    "    business_csv = csv.reader(business_csv_file)\n",
    "\n",
    "    categories = list()\n",
    "    first_line = 1;\n",
    "    for line in business_csv:\n",
    "        if first_line > 1:\n",
    "            categories.append([float(line[1]), float(line[2])])\n",
    "        else:\n",
    "            categories.append([line[1], line[2]])\n",
    "        first_line += 1\n",
    "    categories = categories[1:]\n",
    "    #biz_train, biz_test =  get_cross_validated_data(splits=2,repeats=2)\n",
    "\n",
    "    kmeans_model = KMeans(n_clusters=n_clusters, init='k-means++', max_iter=100, n_init=1,random_state=1)\n",
    "    kmeans_model.fit(categories)\n",
    "    print(\"Clustering based on location (latitude and longitude)...\")\n",
    "    business_csv_file.close()\n",
    "\n",
    "    business_csv_file = open(os.path.join(\"..\",\"data\",\"biz_csv\",\"business.csv\"),\"r\", encoding=\"utf8\")\n",
    "    business_csv = csv.reader(business_csv_file)\n",
    "\n",
    "    cluster_buckets = dict()\n",
    "\n",
    "    for line in business_csv:\n",
    "        if not (line[-1] == \"categories\"):\n",
    "            pred = kmeans_model.predict([[line[1],line[2]]])[0]\n",
    "            if not pred in cluster_buckets: \n",
    "                cluster_buckets[pred] = list()\n",
    "            cluster_buckets[pred].append(line)\n",
    "\n",
    "    business_csv_file.close()\n",
    "    print(\"Clustering based on location (latitude and longitude)... DONE\")\n",
    "    print(\"Clustering each location based clusters based on the business category...\")\n",
    "    for cluster in cluster_buckets:\n",
    "        print(\"Processing locational cluster number \"+str(cluster))\n",
    "        cluster_by_category(latlon_cluster_no=cluster, data=cluster_buckets[cluster], n_clusters=min(len(cluster_buckets[cluster]),n_clusters))\n",
    "\n",
    "    print(\"Clustering each location based clusters based on the business category... DONE\")"
   ]
  },
  {
   "cell_type": "code",
   "execution_count": 5,
   "metadata": {},
   "outputs": [
    {
     "name": "stdout",
     "output_type": "stream",
     "text": [
      "Clustering based on location (latitude and longitude)...\n",
      "Clustering based on location (latitude and longitude)... DONE\n",
      "Clustering each location based clusters based on the business category...\n",
      "Processing locational cluster number 16\n",
      "Processing locational cluster number 6\n",
      "Processing locational cluster number 5\n",
      "Processing locational cluster number 4\n",
      "Processing locational cluster number 10\n",
      "Processing locational cluster number 19\n",
      "Processing locational cluster number 17\n",
      "Processing locational cluster number 1\n",
      "Processing locational cluster number 2\n",
      "Processing locational cluster number 8\n",
      "Processing locational cluster number 7\n",
      "Processing locational cluster number 11\n",
      "Processing locational cluster number 3\n",
      "Processing locational cluster number 0\n",
      "Processing locational cluster number 15\n",
      "Processing locational cluster number 9\n",
      "Processing locational cluster number 18\n",
      "Processing locational cluster number 12\n",
      "Processing locational cluster number 13\n",
      "Processing locational cluster number 14\n",
      "Clustering each location based clusters based on the business category... DONE\n"
     ]
    }
   ],
   "source": [
    "cluster_by_position_and_category(20)"
   ]
  },
  {
   "cell_type": "code",
   "execution_count": 5,
   "metadata": {
    "collapsed": true
   },
   "outputs": [],
   "source": [
    "#cross-validation 50-25-25 over this business.csv (cluster only 50% data)\n",
    "#do the regression, training the check-in data over 50% data. --> in RAM! \n",
    "#for each validation data, we will find the cluster and then filter businesses fromm the same cluster\n",
    "#take check-in data for those check-in businesses and learn to predict the crowd"
   ]
  },
  {
   "cell_type": "code",
   "execution_count": 1,
   "metadata": {
    "collapsed": true
   },
   "outputs": [],
   "source": [
    "from sklearn.model_selection import RepeatedKFold\n",
    "\n",
    "def get_cross_validated_data(splits,repeats):\n",
    "    business_df = pd.read_csv(os.path.join(\"data\", \"biz_csv\", 'business.csv'))\n",
    "    print(business_df)\n",
    "    training_data = list()\n",
    "    test_data=list()\n",
    "    rkfold = RepeatedKFold(n_splits=splits, n_repeats=repeats, random_state=1)\n",
    "    for train, test in rkfold.split(business_df):\n",
    "        training_data.append(business_df.values[train])\n",
    "        test_data.append(business_df.values[test])\n",
    "    return training_data, test_data\n",
    "    "
   ]
  },
  {
   "cell_type": "code",
   "execution_count": 3,
   "metadata": {},
   "outputs": [
    {
     "data": {
      "image/png": "[encoded data removed]",
      "text/plain": [
       "<matplotlib.figure.Figure at 0x194c559ea20>"
      ]
     },
     "metadata": {},
     "output_type": "display_data"
    }
   ],
   "source": [
    "import numpy as np\n",
    "import matplotlib.pyplot as plt\n",
    "\n",
    "# Fixing random state for reproducibility\n",
    "np.random.seed(19680801)\n",
    "\n",
    "\n",
    "N = 50\n",
    "x = np.random.rand(N)\n",
    "y = np.random.rand(N)\n",
    "colors = np.random.rand(N)\n",
    "area = np.pi * (15 * np.random.rand(N))**2  # 0 to 15 point radii\n",
    "\n",
    "plt.scatter(x, y, s=area, c=colors, alpha=0.5)\n",
    "plt.show()"
   ]
  },
  {
   "cell_type": "code",
   "execution_count": null,
   "metadata": {
    "collapsed": true
   },
   "outputs": [],
   "source": [
    "# take all the data and cluster it.\n",
    "# when a new business comes in, take longitude and lattitude and get cluster number\n",
    "# skim thru the categories to find the category_cluster. \n",
    "\n",
    "# Anand = return train,test --> train will have 75% train and 25% test i.e. list of business_ids\n",
    "# 1. Manva will do a regression model over ann. 2. get the list of training business_id and fit annRegressor. \n",
    "# 3. get one business_id and get a list of checkins and run the ann model over it. \n",
    "# 4. I will get predicted_check_in_value and compare it with true_checkin_value. Calculate accuracy."
   ]
  }
 ],
 "metadata": {
  "kernelspec": {
   "display_name": "Python 3",
   "language": "python",
   "name": "python3"
  },
  "language_info": {
   "codemirror_mode": {
    "name": "ipython",
    "version": 3
   },
   "file_extension": ".py",
   "mimetype": "text/x-python",
   "name": "python",
   "nbconvert_exporter": "python",
   "pygments_lexer": "ipython3",
   "version": "3.6.2"
  }
 },
 "nbformat": 4,
 "nbformat_minor": 2
}
