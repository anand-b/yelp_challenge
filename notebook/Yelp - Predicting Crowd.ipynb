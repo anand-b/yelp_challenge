{
 "cells": [
  {
   "cell_type": "markdown",
   "metadata": {},
   "source": [
    "###Clustering Businesses"
   ]
  },
  {
   "cell_type": "code",
   "execution_count": 38,
   "metadata": {},
   "outputs": [
    {
     "name": "stdout",
     "output_type": "stream",
     "text": [
      "There are 1310 unique categories and subcategories for all businesses\n"
     ]
    }
   ],
   "source": [
    "import os\n",
    "import csv\n",
    "import re\n",
    "\n",
    "business_csv_file = open(os.path.join(\"..\",\"data\",\"biz_csv\",\"business.csv\"),\"r\")\n",
    "business_csv = csv.reader(business_csv_file)\n",
    "\n",
    "categories = list()\n",
    "for line in business_csv:\n",
    "    categories.append(line[-1])\n",
    "categories = categories[1:]\n",
    "\n",
    "business_csv_file.close()\n",
    "\n",
    "unique_cats = set()\n",
    "for category in categories:\n",
    "    cat_list = re.split(\",|&\",category)\n",
    "    for cat in cat_list:\n",
    "        cat = cat.lower().strip()\n",
    "        if len(cat) > 0:\n",
    "            unique_cats.add(cat.lower().strip())\n",
    "\n",
    "print(\"There are \"+str(len(unique_cats))+\" unique categories and subcategories for all businesses\")"
   ]
  },
  {
   "cell_type": "code",
   "execution_count": 41,
   "metadata": {},
   "outputs": [
    {
     "name": "stdout",
     "output_type": "stream",
     "text": [
      "Done\n"
     ]
    }
   ],
   "source": [
    "import os\n",
    "from sklearn.feature_extraction.text import TfidfVectorizer\n",
    "from sklearn.cluster import KMeans\n",
    "import csv\n",
    "\n",
    "business_csv_file = open(os.path.join(\"..\",\"data\",\"biz_csv\",\"business.csv\"),\"r\")\n",
    "business_csv = csv.reader(business_csv_file)\n",
    "\n",
    "categories = list()\n",
    "for line in business_csv:\n",
    "    categories.append(line[-1])\n",
    "categories = categories[1:]\n",
    "\n",
    "class CustomTdidfVectorizer(TfidfVectorizer):\n",
    "    def build_tokenizer(self):\n",
    "        token_pattern = re.compile(\",\")\n",
    "        return lambda doc: token_pattern.findall(doc)\n",
    "#         tokenize = super(TfidfVectorizer, self).build_tokenizer()\n",
    "#         return lambda doc: list(to_british(tokenize(doc)))\n",
    "\n",
    "vectorizer = TfidfVectorizer(stop_words='english') # term-frequency x inverse-document frequency\n",
    "# tokenize based on comma instead of space. Otherwise, words like \"Public Services\" will not be seen as a single word \n",
    "# by the vectorizer\n",
    "cat = vectorizer.fit_transform(categories)\n",
    "\n",
    "no_of_clusters = 20\n",
    "\n",
    "kmeans_model = KMeans(n_clusters=20, init='k-means++', max_iter=100, n_init=1,random_state=1)\n",
    "kmeans_model.fit(cat)\n",
    "\n",
    "business_csv_file.close()\n",
    "\n",
    "business_csv_file = open(os.path.join(\"..\",\"data\",\"biz_csv\",\"business.csv\"),\"r\")\n",
    "business_csv_clustered_file = open(os.path.join(\"..\",\"data\",\"biz_csv\",\"business_clustered.csv\"),\"w+\")\n",
    "business_csv = csv.reader(business_csv_file)\n",
    "business_clustered_csv = csv.writer(business_csv_clustered_file)\n",
    "\n",
    "for line in business_csv:\n",
    "    if not (line[-1] == \"categories\"):\n",
    "        line.extend(kmeans_model.predict(vectorizer.transform(line[-1:])))\n",
    "        business_clustered_csv.writerow(line)\n",
    "\n",
    "business_csv_clustered_file.close()\n",
    "business_csv_file.close()\n",
    "\n",
    "print(\"Done\")"
   ]
  },
  {
   "cell_type": "code",
   "execution_count": null,
   "metadata": {},
   "outputs": [],
   "source": []
  }
 ],
 "metadata": {
  "kernelspec": {
   "display_name": "Python 3",
   "language": "python",
   "name": "python3"
  },
  "language_info": {
   "codemirror_mode": {
    "name": "ipython",
    "version": 3
   },
   "file_extension": ".py",
   "mimetype": "text/x-python",
   "name": "python",
   "nbconvert_exporter": "python",
   "pygments_lexer": "ipython3",
   "version": "3.6.2"
  }
 },
 "nbformat": 4,
 "nbformat_minor": 2
}
