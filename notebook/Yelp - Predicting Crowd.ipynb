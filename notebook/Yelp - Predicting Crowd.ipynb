{
 "cells": [
  {
   "cell_type": "markdown",
   "metadata": {},
   "source": [
    "# Clustering Businesses"
   ]
  },
  {
   "cell_type": "markdown",
   "metadata": {},
   "source": [
    "## Number of categories for all businesses:"
   ]
  },
  {
   "cell_type": "code",
   "execution_count": 1,
   "metadata": {},
   "outputs": [
    {
     "name": "stdout",
     "output_type": "stream",
     "text": [
      "There are 1310 unique categories and subcategories for all businesses\n"
     ]
    }
   ],
   "source": [
    "import os\n",
    "import csv\n",
    "import re\n",
    "\n",
    "business_csv_file = open(os.path.join(\"..\",\"data\",\"biz_csv\",\"business.csv\"),\"r\", encoding='utf-8')\n",
    "business_csv = csv.reader(business_csv_file)\n",
    "\n",
    "categories = list()\n",
    "for line in business_csv:\n",
    "    #print(line)\n",
    "    categories.append(line[-1])\n",
    "categories = categories[1:]\n",
    "\n",
    "business_csv_file.close()\n",
    "\n",
    "unique_cats = set()\n",
    "for category in categories:\n",
    "    cat_list = re.split(\",|&\",category)\n",
    "    for cat in cat_list:\n",
    "        cat = cat.lower().strip()\n",
    "        if len(cat) > 0:\n",
    "            unique_cats.add(cat.lower().strip())\n",
    "\n",
    "print(\"There are \"+str(len(unique_cats))+\" unique categories and subcategories for all businesses\")"
   ]
  },
  {
   "cell_type": "markdown",
   "metadata": {},
   "source": [
    "## Core Logic\n",
    "\n",
    "Algorithm:\n",
    "1. Since there is no test data, cross-validate business data into k-folds and use k-1 folds for training and 1 fold for testing.\n",
    "2. For the training data,\n",
    "    1. create locational clusters based on latitude and longitude\n",
    "    2. for each locational cluster,\n",
    "        1. create categorical clusters of businesses\n",
    "    3. for each locational cluster,\n",
    "        1. for each categorical cluster,\n",
    "            1. create regression models\n",
    "\n",
    "    4. for each test data\n",
    "        1. find the locational cluster and categorical cluster using the appropriate k-means models\n",
    "        2. predict the crowd for the business using the appropriate regression model."
   ]
  },
  {
   "cell_type": "code",
   "execution_count": null,
   "metadata": {
    "collapsed": true
   },
   "outputs": [],
   "source": [
    "import os\n",
    "import math\n",
    "from sklearn.feature_extraction.text import TfidfVectorizer\n",
    "from sklearn.cluster import KMeans\n",
    "import pandas as pd\n",
    "from sklearn.model_selection import RepeatedKFold\n",
    "from sklearn.metrics import precision_score\n",
    "# from sklearn.neural_network import MLPRegressor\n",
    "from sklearn.linear_model import LinearRegression\n",
    "\n",
    "def get_cross_validated_business_data(splits, repeats):\n",
    "    business_df = pd.read_csv(os.path.join(\"..\", \"data\", \"biz_csv\", 'business.csv'))\n",
    "    training_data = list()\n",
    "    test_data = list()\n",
    "    rkfold = RepeatedKFold(n_splits=splits, n_repeats=repeats, random_state=0)\n",
    "    for train, test in rkfold.split(business_df):\n",
    "        training_data.append(list(business_df.values[train]))\n",
    "        test_data.append(list(business_df.values[test]))\n",
    "    return training_data, test_data\n",
    "\n",
    "def get_regression_model(biz_id_train):\n",
    "    data = pd.read_csv(os.path.join('..', 'data', 'checkin_csv', 'checkin.csv'))\n",
    "    train = pd.DataFrame()\n",
    "    i = 1\n",
    "    while biz_id_train:\n",
    "        temp = data.loc[data['business_id'] == biz_id_train.pop()]\n",
    "        i += 1\n",
    "        train = train.append(temp)\n",
    "    if len(train) != 0:\n",
    "        X_train = train[train.columns.values[:-1]].values\n",
    "        y_train = train[train.columns.values[-1]].values\n",
    "        # models[location][category] = MLPRegressor(hidden_layer_sizes=(10, 5), activation='relu', learning_rate='adaptive').fit(X_train, y_train)\n",
    "        return LinearRegression().fit(X_train, y_train)\n",
    "    return None\n",
    "\n",
    "def test_model(model, biz_id_test):\n",
    "    if (model != None):\n",
    "        data = pd.read_csv(os.path.join('..','data', 'checkin_csv', 'checkin.csv'))\n",
    "        test = data.loc[data['business_id'] == biz_id_test]\n",
    "        if len(test) != 0:\n",
    "            X_test = test[test.columns.values[:-1]].values\n",
    "            y_test = test[test.columns.values[-1]].values\n",
    "            predicted_values = model.predict(X_test)\n",
    "            predicted_values = [ 0 if x < 0 else math.floor(x) for x in predicted_values]\n",
    "            # print(predicted_values)\n",
    "            # print(y_test)\n",
    "            # print(model.score(X_test, y_test))\n",
    "            print(precision_score(y_test, predicted_values,average='macro'))\n",
    "\n",
    "        else:\n",
    "            print(\"No check-in data available for this business to test...\")\n",
    "    else:\n",
    "        print(\"No sufficient businesses available in the surrounding area and for this category to find the crowd...\")\n",
    "\n",
    "def cluster_by_position_and_category_cv(n_clusters_pos, n_clusters_cat, cv_splits, cv_repeats):\n",
    "    biz_train, biz_test = get_cross_validated_business_data(splits=cv_splits, repeats=cv_repeats)\n",
    "    # for cv_index in range(len(biz_train)):  # iterates through all cross-validated training data\n",
    "    cv_index = 0\n",
    "    location_model = KMeans(n_clusters=n_clusters_pos, init='k-means++', max_iter=100, n_init=1, random_state=1)\n",
    "    train_iterator = biz_train[cv_index]  # this variable has 80% train data\n",
    "    lat_lon_list = [[el[1], el[2]] for el in\n",
    "                    train_iterator]  # take out the latitude and longitude out of each row of training data\n",
    "    predictions_for_training_data = location_model.fit_predict(\n",
    "        lat_lon_list)  # fit the training data and predict the clusters\n",
    "    cluster_buckets = dict()\n",
    "    for i in range(n_clusters_pos):\n",
    "        cluster_buckets[i] = list()\n",
    "    for index in range(0, len(lat_lon_list)):\n",
    "        cluster_buckets[predictions_for_training_data[index]].append(\n",
    "            train_iterator[index])  # put each data to its corresponding cluster bucket\n",
    "\n",
    "    # now for each bucket, we need to use the data in the bucket and cluster the data based on the category of the business\n",
    "    categorical_cluster_models = dict()\n",
    "    categorical_cluster_data = dict()\n",
    "    for loc_cluster in cluster_buckets:  # cluster has the cluster number.. 0 to n\n",
    "        data = cluster_buckets[loc_cluster]\n",
    "        categories = [line[-1] for line in data]\n",
    "        vectorizer = TfidfVectorizer(stop_words='english')  # ,token_pattern='[a-zA-Z0-9\\s&]+'\n",
    "        # term-frequency x inverse-document frequency\n",
    "        # tokenize based on comma instead of space. Otherwise, words like \"Public Services\" will not be seen as a single word\n",
    "        # by the vectorizer\n",
    "        cluster_no = min(len(categories), n_clusters_cat)\n",
    "        categorical_model = KMeans(n_clusters=cluster_no, init='k-means++', max_iter=100, n_init=1, random_state=1)\n",
    "        cat_predictions_for_training_data = categorical_model.fit_predict(vectorizer.fit_transform(categories))\n",
    "\n",
    "        categorical_cluster_data[loc_cluster] = dict()\n",
    "        for i in range(cluster_no):\n",
    "            categorical_cluster_data[loc_cluster][i] = list()\n",
    "\n",
    "        for index in range(len(categories)):\n",
    "            pred = cat_predictions_for_training_data[index]\n",
    "            categorical_cluster_data[loc_cluster][pred].append(data[index][0])\n",
    "        categorical_cluster_models[loc_cluster] = (categorical_model, vectorizer)\n",
    "        # categorical_cluster_models[cluster] = (cluster_by_category_cv(data=cluster_buckets[cluster], n_clusters=min(len(cluster_buckets[cluster]),n_clusters_cat)))\n",
    "\n",
    "    del cluster_buckets\n",
    "    # At the end of the above loop, we will have n_clusters of categorical clustering models.\n",
    "    # The index of the model gives the locational cluster to which it belongs to...\n",
    "\n",
    "    models = dict()\n",
    "    for i in range(n_clusters_pos):\n",
    "        models[i] = dict()\n",
    "        for j in range(n_clusters_cat):\n",
    "            models[i][j] = None\n",
    "\n",
    "    test_iterator = biz_test[cv_index]  # this variable has 20% test data\n",
    "    lat_lon_list = [[el[1], el[2]] for el in test_iterator]\n",
    "    predictions_for_test_data = location_model.predict(lat_lon_list)\n",
    "    for index in range(len(lat_lon_list)):\n",
    "        locational_prediction = predictions_for_test_data[index]\n",
    "        model = categorical_cluster_models[locational_prediction][0]\n",
    "        vectorizer = categorical_cluster_models[locational_prediction][1]\n",
    "        data = test_iterator[index]\n",
    "        categorical_prediction = model.predict(vectorizer.transform([data[-1]]))[0]\n",
    "\n",
    "        if (models[locational_prediction][categorical_prediction] == None):\n",
    "            models[locational_prediction][categorical_prediction] = get_regression_model(\n",
    "                categorical_cluster_data[locational_prediction][categorical_prediction])\n",
    "\n",
    "        # train_bid = categorical_cluster_data[locational_prediction][categorical_prediction]\n",
    "        # test_bid = data[0]\n",
    "\n",
    "        test_model(models[locational_prediction][categorical_prediction],data[0])"
   ]
  },
  {
   "cell_type": "markdown",
   "metadata": {},
   "source": [
    "## Finding the best K\n",
    "\n",
    "An experiment is conducted to find the optimal K value for clustering. The data is clustered using various K values, and an elbow graph is drawn using the errors of each experiment iteration."
   ]
  },
  {
   "cell_type": "code",
   "execution_count": 20,
   "metadata": {},
   "outputs": [
    {
     "data": {
      "image/png": "[encoded data removed]",
      "text/plain": [
       "<matplotlib.figure.Figure at 0x1566bd748>"
      ]
     },
     "metadata": {},
     "output_type": "display_data"
    }
   ],
   "source": [
    "import matplotlib.pyplot as plotter\n",
    "\n",
    "scores = [6680.62708489, 6222.38988339, 5891.35194913, 5623.3567376, 5391.06404878, 5150.89958683, 4929.80994129, 5036.91692184, 4740.77092124, 4425.69947235, 4212.10038799, 4031.95793356, 3863.09054246, 3715.22125099, 3998.90302957, 3764.1314528, 3527.90901922, 3373.04783744, 3229.03190954, 3091.62013795, 2969.93298554, 3317.31491636, 3111.91975003, 2929.97908759, 2793.51104239, 2663.64300324, 2551.11527568, 2449.04226602, 2847.6889446, 2670.56181004, 2502.76562401, 2381.16653546, 2276.35103775, 2177.83706304, 2095.40357468, 2484.92095349, 2331.4478288, 2183.72012405, 2074.68787017, 1984.09588803, 1901.39996103, 1828.73923004, 2214.18066016, 2078.47351644, 1947.71806889, 1847.8374325, 1769.18061144, 1695.65991897, 1626.51311845, 1403.4163953, 1343.99395874, 1271.93228632, 1224.25056063, 1084.13725677, 1049.98656279, 1020.17405117, 986.68485585, 1002.63188901, 969.833765073, 939.550335766, 908.045501463, 921.967334512, 890.363836172, 863.752971439, 836.423263758, 860.464795338, 831.307077557, 805.189550361, 781.443308413]\n",
    "\n",
    "plotter.plot(range(len(scores)), scores)\n",
    "plotter.show()"
   ]
  },
  {
   "cell_type": "markdown",
   "metadata": {},
   "source": [
    "#### Using data points around error=1000"
   ]
  },
  {
   "cell_type": "code",
   "execution_count": 22,
   "metadata": {},
   "outputs": [
    {
     "data": {
      "image/png": "[encoded data removed]",
      "text/plain": [
       "<matplotlib.figure.Figure at 0x1294e9dd8>"
      ]
     },
     "metadata": {},
     "output_type": "display_data"
    }
   ],
   "source": [
    "import matplotlib.pyplot as plotter\n",
    "\n",
    "scores = [2331.4478288, 2183.72012405, 2074.68787017, 1984.09588803,\n",
    "         1901.39996103, 1828.73923004, 2214.18066016, 2078.47351644, 1947.71806889, 1847.8374325, 1769.18061144, 1695.65991897,\n",
    "         1626.51311845, 1403.4163953, 1343.99395874, 1271.93228632, 1224.25056063, 1084.13725677, 1049.98656279, 1020.17405117,\n",
    "         986.68485585, 1002.63188901, 969.833765073, 939.550335766, 908.045501463, 921.967334512, 890.363836172, 863.752971439,\n",
    "         836.423263758, 860.464795338, 831.307077557, 805.189550361, 781.443308413]\n",
    "\n",
    "plotter.plot(range(len(scores)), scores)\n",
    "plotter.show()"
   ]
  },
  {
   "cell_type": "markdown",
   "metadata": {},
   "source": [
    "#### Data Used for above graph\n",
    "(locational cluster number, categorical cluster number) K-Means score  \n",
    "(15, 15) -6680.62708489  \n",
    "(15, 20) -6222.38988339  \n",
    "(15, 25) -5891.35194913  \n",
    "(15, 30) -5623.3567376  \n",
    "(15, 35) -5391.06404878  \n",
    "(15, 40) -5150.89958683  \n",
    "(15, 45) -4929.80994129  \n",
    "(20, 15) -5036.91692184  \n",
    "(20, 20) -4740.77092124  \n",
    "(20, 25) -4425.69947235  \n",
    "(20, 30) -4212.10038799  \n",
    "(20, 35) -4031.95793356  \n",
    "(20, 40) -3863.09054246  \n",
    "(20, 45) -3715.22125099  \n",
    "(25, 15) -3998.90302957  \n",
    "(25, 20) -3764.1314528  \n",
    "(25, 25) -3527.90901922  \n",
    "(25, 30) -3373.04783744  \n",
    "(25, 35) -3229.03190954  \n",
    "(25, 40) -3091.62013795  \n",
    "(25, 45) -2969.93298554  \n",
    "(30, 15) -3317.31491636  \n",
    "(30, 20) -3111.91975003  \n",
    "(30, 25) -2929.97908759  \n",
    "(30, 30) -2793.51104239  \n",
    "(30, 35) -2663.64300324  \n",
    "(30, 40) -2551.11527568  \n",
    "(30, 45) -2449.04226602  \n",
    "(35, 15) -2847.6889446  \n",
    "(35, 20) -2670.56181004  \n",
    "(35, 25) -2502.76562401  \n",
    "(35, 30) -2381.16653546  \n",
    "(35, 35) -2276.35103775  \n",
    "(35, 40) -2177.83706304  \n",
    "(35, 45) -2095.40357468  \n",
    "(40, 15) -2484.92095349  \n",
    "(40, 20) -2331.4478288  \n",
    "(40, 25) -2183.72012405  \n",
    "(40, 30) -2074.68787017  \n",
    "(40, 35) -1984.09588803  \n",
    "(40, 40) -1901.39996103  \n",
    "(40, 45) -1828.73923004  \n",
    "(45, 15) -2214.18066016  \n",
    "(45, 20) -2078.47351644  \n",
    "(45, 25) -1947.71806889  \n",
    "(45, 30) -1847.8374325  \n",
    "(45, 35) -1769.18061144  \n",
    "(45, 40) -1695.65991897  \n",
    "(45, 45) -1626.51311845  \n",
    "(50, 50) -1403.4163953  \n",
    "(50, 55) -1343.99395874  \n",
    "(55, 50) -1271.93228632  \n",
    "(55, 55) -1224.25056063  \n",
    "(60, 60) -1084.13725677  \n",
    "(60, 65) -1049.98656279  \n",
    "(60, 70) -1020.17405117  \n",
    "(60, 75) -986.68485585  \n",
    "(65, 60) -1002.63188901  \n",
    "(65, 65) -969.833765073  \n",
    "(65, 70) -939.550335766  \n",
    "(65, 75) -908.045501463  \n",
    "(70, 60) -921.967334512  \n",
    "(70, 65) -890.363836172  \n",
    "(70, 70) -863.752971439  \n",
    "(70, 75) -836.423263758  \n",
    "(75, 60) -860.464795338  \n",
    "(75, 65) -831.307077557  \n",
    "(75, 70) -805.189550361  \n",
    "(75, 75) -781.443308413  "
   ]
  },
  {
   "cell_type": "markdown",
   "metadata": {},
   "source": [
    "#### Experimentation result:\n",
    "\n",
    "From the above graph, it can be seen that at **(60, 60) -1084.13725677**, the reduction in error of the clusters starts to slow down. Hence, 60 locational clusters and 60 categorical clusters will give good clusters."
   ]
  },
  {
   "cell_type": "markdown",
   "metadata": {},
   "source": [
    "## Running the core logic"
   ]
  },
  {
   "cell_type": "code",
   "execution_count": null,
   "metadata": {
    "collapsed": true
   },
   "outputs": [],
   "source": [
    "locational_clusters = 60\n",
    "categorical_clusters = 60\n",
    "number_of_folds = 10\n",
    "number_of_repeats = 1\n",
    "cluster_by_position_and_category_cv(locational_clusters, categorical_clusters, number_of_folds, number_of_repeats)"
   ]
  }
 ],
 "metadata": {
  "kernelspec": {
   "display_name": "Python 3",
   "language": "python",
   "name": "python3"
  },
  "language_info": {
   "codemirror_mode": {
    "name": "ipython",
    "version": 3
   },
   "file_extension": ".py",
   "mimetype": "text/x-python",
   "name": "python",
   "nbconvert_exporter": "python",
   "pygments_lexer": "ipython3",
   "version": "3.6.2"
  }
 },
 "nbformat": 4,
 "nbformat_minor": 2
}
